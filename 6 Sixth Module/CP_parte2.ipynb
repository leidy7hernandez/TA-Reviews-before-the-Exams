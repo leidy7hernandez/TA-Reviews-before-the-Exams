{
  "cells": [
    {
      "attachments": {},
      "cell_type": "markdown",
      "id": "Um0Ck-CxomkL",
      "metadata": {
        "id": "Um0Ck-CxomkL"
      },
      "source": [
        "# Preguntas 11 y 12"
      ]
    },
    {
      "attachments": {},
      "cell_type": "markdown",
      "id": "75c07e35",
      "metadata": {
        "id": "75c07e35"
      },
      "source": [
        "# Regresion Lineal"
      ]
    },
    {
      "cell_type": "code",
      "execution_count": 82,
      "id": "fb7f8728",
      "metadata": {
        "id": "fb7f8728"
      },
      "outputs": [],
      "source": [
        "import pandas as pd\n",
        "import numpy as np\n",
        "from sklearn.linear_model import LinearRegression\n",
        "from sklearn.metrics import r2_score\n",
        "from sklearn.metrics import mean_squared_error\n",
        "import matplotlib.pyplot as plt\n",
        "import seaborn as sns"
      ]
    },
    {
      "cell_type": "code",
      "execution_count": 83,
      "id": "647ad25d",
      "metadata": {
        "id": "647ad25d"
      },
      "outputs": [
        {
          "data": {
            "text/html": [
              "<div>\n",
              "<style scoped>\n",
              "    .dataframe tbody tr th:only-of-type {\n",
              "        vertical-align: middle;\n",
              "    }\n",
              "\n",
              "    .dataframe tbody tr th {\n",
              "        vertical-align: top;\n",
              "    }\n",
              "\n",
              "    .dataframe thead th {\n",
              "        text-align: right;\n",
              "    }\n",
              "</style>\n",
              "<table border=\"1\" class=\"dataframe\">\n",
              "  <thead>\n",
              "    <tr style=\"text-align: right;\">\n",
              "      <th></th>\n",
              "      <th>TV</th>\n",
              "      <th>Radio</th>\n",
              "      <th>Newspaper</th>\n",
              "      <th>Sales</th>\n",
              "    </tr>\n",
              "  </thead>\n",
              "  <tbody>\n",
              "    <tr>\n",
              "      <th>0</th>\n",
              "      <td>230.1</td>\n",
              "      <td>37.8</td>\n",
              "      <td>69.2</td>\n",
              "      <td>22.1</td>\n",
              "    </tr>\n",
              "    <tr>\n",
              "      <th>1</th>\n",
              "      <td>44.5</td>\n",
              "      <td>39.3</td>\n",
              "      <td>45.1</td>\n",
              "      <td>10.4</td>\n",
              "    </tr>\n",
              "    <tr>\n",
              "      <th>2</th>\n",
              "      <td>17.2</td>\n",
              "      <td>45.9</td>\n",
              "      <td>69.3</td>\n",
              "      <td>9.3</td>\n",
              "    </tr>\n",
              "    <tr>\n",
              "      <th>3</th>\n",
              "      <td>151.5</td>\n",
              "      <td>41.3</td>\n",
              "      <td>58.5</td>\n",
              "      <td>18.5</td>\n",
              "    </tr>\n",
              "    <tr>\n",
              "      <th>4</th>\n",
              "      <td>180.8</td>\n",
              "      <td>10.8</td>\n",
              "      <td>58.4</td>\n",
              "      <td>12.9</td>\n",
              "    </tr>\n",
              "  </tbody>\n",
              "</table>\n",
              "</div>"
            ],
            "text/plain": [
              "      TV  Radio  Newspaper  Sales\n",
              "0  230.1   37.8       69.2   22.1\n",
              "1   44.5   39.3       45.1   10.4\n",
              "2   17.2   45.9       69.3    9.3\n",
              "3  151.5   41.3       58.5   18.5\n",
              "4  180.8   10.8       58.4   12.9"
            ]
          },
          "execution_count": 83,
          "metadata": {},
          "output_type": "execute_result"
        }
      ],
      "source": [
        "data = pd.read_csv(\"./data/Advertising.csv\")\n",
        "data.head()"
      ]
    },
    {
      "cell_type": "code",
      "execution_count": 84,
      "id": "96e4911e",
      "metadata": {
        "id": "96e4911e"
      },
      "outputs": [],
      "source": [
        "feature_cols = [\"TV\", \"Radio\", \"Newspaper\"]\n",
        "X = data[feature_cols]\n",
        "y = data[\"Sales\"]"
      ]
    },
    {
      "cell_type": "code",
      "execution_count": 85,
      "id": "665ae66a",
      "metadata": {
        "id": "665ae66a"
      },
      "outputs": [],
      "source": [
        "x1 = X[[\"TV\"]]\n",
        "x2 = X[[\"Radio\"]]\n",
        "x3 = X[[\"Newspaper\"]]"
      ]
    },
    {
      "attachments": {},
      "cell_type": "markdown",
      "id": "895fcd0a",
      "metadata": {},
      "source": [
        "11.  Nuestro target es la columna 'Sales'. ¿Cuál de los tres productos de comunicación posee un menor ajuste lineal respecto a dicha variable?\n",
        "\n",
        "    1. x1 = TV\n",
        "    2. x2 = Radio\n",
        "    3. x3 = Newspaper"
      ]
    },
    {
      "cell_type": "code",
      "execution_count": 86,
      "id": "06342311",
      "metadata": {},
      "outputs": [
        {
          "name": "stdout",
          "output_type": "stream",
          "text": [
            "0.611875050850071\n",
            "0.33203245544529525\n",
            "0.05212044544430516\n",
            "Newspaper\n"
          ]
        }
      ],
      "source": [
        "product_r2 = {}\n",
        "\n",
        "for product in X:\n",
        "    model = LinearRegression()\n",
        "    model.fit(data[[product]], data['Sales'])\n",
        "    r2 = model.score(data[[product]], data['Sales'])\n",
        "    product_r2[product] = r2\n",
        "    print(r2)\n",
        "\n",
        "product_with_lowest_r2 = min(product_r2, key=product_r2.get)\n",
        "print(product_with_lowest_r2)"
      ]
    },
    {
      "attachments": {},
      "cell_type": "markdown",
      "id": "9627f14e",
      "metadata": {},
      "source": [
        "12. Al generar un modelo de regresión lineal múltiple con x1, x2 y x3 se logra una bondad de ajuste (R2) en el intervalo: 1 punto\n",
        "\n",
        "    - Menor a 0.70\n",
        "\n",
        "    - (0.70, 0.80]\n",
        "\n",
        "    - (0.80, 0.90]\n",
        "\n",
        "    - Mayor a 0.90\n",
        "\n",
        "- 3\n"
      ]
    },
    {
      "cell_type": "code",
      "execution_count": 87,
      "id": "da7f2344",
      "metadata": {},
      "outputs": [
        {
          "name": "stdout",
          "output_type": "stream",
          "text": [
            "Regression multiple: 0.8972106381789522\n"
          ]
        }
      ],
      "source": [
        "regression_multiple = LinearRegression()\n",
        "regression_multiple.fit(X, y)\n",
        "r_squared_multiple = regression_multiple.score(X, y)\n",
        "print(f\"Regression multiple: {r_squared_multiple}\")"
      ]
    },
    {
      "attachments": {},
      "cell_type": "markdown",
      "id": "e9053366",
      "metadata": {
        "id": "e9053366"
      },
      "source": [
        "# Feature engineer Pregunta 13"
      ]
    },
    {
      "cell_type": "code",
      "execution_count": 88,
      "id": "e9e92419",
      "metadata": {
        "id": "e9e92419"
      },
      "outputs": [
        {
          "data": {
            "text/html": [
              "<div>\n",
              "<style scoped>\n",
              "    .dataframe tbody tr th:only-of-type {\n",
              "        vertical-align: middle;\n",
              "    }\n",
              "\n",
              "    .dataframe tbody tr th {\n",
              "        vertical-align: top;\n",
              "    }\n",
              "\n",
              "    .dataframe thead th {\n",
              "        text-align: right;\n",
              "    }\n",
              "</style>\n",
              "<table border=\"1\" class=\"dataframe\">\n",
              "  <thead>\n",
              "    <tr style=\"text-align: right;\">\n",
              "      <th></th>\n",
              "      <th>age</th>\n",
              "      <th>sex</th>\n",
              "      <th>bmi</th>\n",
              "      <th>children</th>\n",
              "      <th>smoker</th>\n",
              "      <th>region</th>\n",
              "      <th>charges</th>\n",
              "    </tr>\n",
              "  </thead>\n",
              "  <tbody>\n",
              "    <tr>\n",
              "      <th>0</th>\n",
              "      <td>19.0</td>\n",
              "      <td>female</td>\n",
              "      <td>27.900</td>\n",
              "      <td>0</td>\n",
              "      <td>yes</td>\n",
              "      <td>southwest</td>\n",
              "      <td>16884.92400</td>\n",
              "    </tr>\n",
              "    <tr>\n",
              "      <th>1</th>\n",
              "      <td>18.0</td>\n",
              "      <td>male</td>\n",
              "      <td>33.770</td>\n",
              "      <td>1</td>\n",
              "      <td>no</td>\n",
              "      <td>southeast</td>\n",
              "      <td>1725.55230</td>\n",
              "    </tr>\n",
              "    <tr>\n",
              "      <th>2</th>\n",
              "      <td>28.0</td>\n",
              "      <td>male</td>\n",
              "      <td>33.000</td>\n",
              "      <td>3</td>\n",
              "      <td>no</td>\n",
              "      <td>southeast</td>\n",
              "      <td>4449.46200</td>\n",
              "    </tr>\n",
              "    <tr>\n",
              "      <th>3</th>\n",
              "      <td>33.0</td>\n",
              "      <td>male</td>\n",
              "      <td>22.705</td>\n",
              "      <td>0</td>\n",
              "      <td>no</td>\n",
              "      <td>northwest</td>\n",
              "      <td>21984.47061</td>\n",
              "    </tr>\n",
              "    <tr>\n",
              "      <th>4</th>\n",
              "      <td>32.0</td>\n",
              "      <td>male</td>\n",
              "      <td>28.880</td>\n",
              "      <td>0</td>\n",
              "      <td>no</td>\n",
              "      <td>northwest</td>\n",
              "      <td>3866.85520</td>\n",
              "    </tr>\n",
              "  </tbody>\n",
              "</table>\n",
              "</div>"
            ],
            "text/plain": [
              "    age     sex     bmi  children smoker     region      charges\n",
              "0  19.0  female  27.900         0    yes  southwest  16884.92400\n",
              "1  18.0    male  33.770         1     no  southeast   1725.55230\n",
              "2  28.0    male  33.000         3     no  southeast   4449.46200\n",
              "3  33.0    male  22.705         0     no  northwest  21984.47061\n",
              "4  32.0    male  28.880         0     no  northwest   3866.85520"
            ]
          },
          "execution_count": 88,
          "metadata": {},
          "output_type": "execute_result"
        }
      ],
      "source": [
        "df = pd.read_csv(\"./data/insurance.csv\") \n",
        "df.head()"
      ]
    },
    {
      "attachments": {},
      "cell_type": "markdown",
      "id": "36661a75",
      "metadata": {
        "id": "36661a75"
      },
      "source": [
        "* Remover registros duplicados"
      ]
    },
    {
      "attachments": {},
      "cell_type": "markdown",
      "id": "6d486220",
      "metadata": {
        "id": "6d486220"
      },
      "source": [
        "* Ver si hay valores nulos y eliminarlos"
      ]
    },
    {
      "attachments": {},
      "cell_type": "markdown",
      "id": "a967f20a",
      "metadata": {
        "id": "a967f20a"
      },
      "source": [
        "* Quitar la columna region"
      ]
    },
    {
      "attachments": {},
      "cell_type": "markdown",
      "id": "201f9a0a",
      "metadata": {
        "id": "201f9a0a"
      },
      "source": [
        "* Genere variables dummies (binarias) para el género de la persona y si es fumador o no, pensando en añadirlas posteriormente como variables independientes para explicar \"charges\"."
      ]
    },
    {
      "cell_type": "code",
      "execution_count": 89,
      "id": "5a7666d5",
      "metadata": {},
      "outputs": [
        {
          "data": {
            "text/html": [
              "<div>\n",
              "<style scoped>\n",
              "    .dataframe tbody tr th:only-of-type {\n",
              "        vertical-align: middle;\n",
              "    }\n",
              "\n",
              "    .dataframe tbody tr th {\n",
              "        vertical-align: top;\n",
              "    }\n",
              "\n",
              "    .dataframe thead th {\n",
              "        text-align: right;\n",
              "    }\n",
              "</style>\n",
              "<table border=\"1\" class=\"dataframe\">\n",
              "  <thead>\n",
              "    <tr style=\"text-align: right;\">\n",
              "      <th></th>\n",
              "      <th>age</th>\n",
              "      <th>sex</th>\n",
              "      <th>bmi</th>\n",
              "      <th>children</th>\n",
              "      <th>smoker</th>\n",
              "      <th>charges</th>\n",
              "      <th>sex_female</th>\n",
              "      <th>sex_male</th>\n",
              "      <th>smoker_no</th>\n",
              "      <th>smoker_yes</th>\n",
              "    </tr>\n",
              "  </thead>\n",
              "  <tbody>\n",
              "    <tr>\n",
              "      <th>0</th>\n",
              "      <td>19.0</td>\n",
              "      <td>female</td>\n",
              "      <td>27.900</td>\n",
              "      <td>0</td>\n",
              "      <td>yes</td>\n",
              "      <td>16884.92400</td>\n",
              "      <td>1</td>\n",
              "      <td>0</td>\n",
              "      <td>0</td>\n",
              "      <td>1</td>\n",
              "    </tr>\n",
              "    <tr>\n",
              "      <th>1</th>\n",
              "      <td>18.0</td>\n",
              "      <td>male</td>\n",
              "      <td>33.770</td>\n",
              "      <td>1</td>\n",
              "      <td>no</td>\n",
              "      <td>1725.55230</td>\n",
              "      <td>0</td>\n",
              "      <td>1</td>\n",
              "      <td>1</td>\n",
              "      <td>0</td>\n",
              "    </tr>\n",
              "    <tr>\n",
              "      <th>2</th>\n",
              "      <td>28.0</td>\n",
              "      <td>male</td>\n",
              "      <td>33.000</td>\n",
              "      <td>3</td>\n",
              "      <td>no</td>\n",
              "      <td>4449.46200</td>\n",
              "      <td>0</td>\n",
              "      <td>1</td>\n",
              "      <td>1</td>\n",
              "      <td>0</td>\n",
              "    </tr>\n",
              "    <tr>\n",
              "      <th>3</th>\n",
              "      <td>33.0</td>\n",
              "      <td>male</td>\n",
              "      <td>22.705</td>\n",
              "      <td>0</td>\n",
              "      <td>no</td>\n",
              "      <td>21984.47061</td>\n",
              "      <td>0</td>\n",
              "      <td>1</td>\n",
              "      <td>1</td>\n",
              "      <td>0</td>\n",
              "    </tr>\n",
              "    <tr>\n",
              "      <th>4</th>\n",
              "      <td>32.0</td>\n",
              "      <td>male</td>\n",
              "      <td>28.880</td>\n",
              "      <td>0</td>\n",
              "      <td>no</td>\n",
              "      <td>3866.85520</td>\n",
              "      <td>0</td>\n",
              "      <td>1</td>\n",
              "      <td>1</td>\n",
              "      <td>0</td>\n",
              "    </tr>\n",
              "  </tbody>\n",
              "</table>\n",
              "</div>"
            ],
            "text/plain": [
              "    age     sex     bmi  children smoker      charges  sex_female  sex_male  \\\n",
              "0  19.0  female  27.900         0    yes  16884.92400           1         0   \n",
              "1  18.0    male  33.770         1     no   1725.55230           0         1   \n",
              "2  28.0    male  33.000         3     no   4449.46200           0         1   \n",
              "3  33.0    male  22.705         0     no  21984.47061           0         1   \n",
              "4  32.0    male  28.880         0     no   3866.85520           0         1   \n",
              "\n",
              "   smoker_no  smoker_yes  \n",
              "0          0           1  \n",
              "1          1           0  \n",
              "2          1           0  \n",
              "3          1           0  \n",
              "4          1           0  "
            ]
          },
          "execution_count": 89,
          "metadata": {},
          "output_type": "execute_result"
        }
      ],
      "source": [
        "df.drop_duplicates(inplace=True)\n",
        "df.drop('region', axis=1, inplace=True)\n",
        "gender_dummies = pd.get_dummies(df['sex'], prefix='sex')\n",
        "smoker_dummies = pd.get_dummies(df['smoker'], prefix='smoker')\n",
        "df = pd.concat([df, gender_dummies, smoker_dummies], axis=1)\n",
        "df.head()"
      ]
    },
    {
      "attachments": {},
      "cell_type": "markdown",
      "id": "d793ed55",
      "metadata": {},
      "source": [
        "13. Utilizando como variable dependiente \"charges\" y el resto de las variables presentes en el dataframe (exceptuando \"region\") como variables independientes, ¿Cuál es el intercepto del modelo? (redondee al entero más cercano)\n",
        "\n",
        "- "
      ]
    },
    {
      "cell_type": "code",
      "execution_count": 90,
      "id": "b0ebdf12",
      "metadata": {},
      "outputs": [
        {
          "ename": "ValueError",
          "evalue": "could not convert string to float: 'female'",
          "output_type": "error",
          "traceback": [
            "\u001b[1;31m---------------------------------------------------------------------------\u001b[0m",
            "\u001b[1;31mValueError\u001b[0m                                Traceback (most recent call last)",
            "Cell \u001b[1;32mIn[90], line 7\u001b[0m\n\u001b[0;32m      4\u001b[0m y \u001b[39m=\u001b[39m df[\u001b[39m'\u001b[39m\u001b[39mcharges\u001b[39m\u001b[39m'\u001b[39m]\n\u001b[0;32m      6\u001b[0m model \u001b[39m=\u001b[39m LinearRegression()\n\u001b[1;32m----> 7\u001b[0m model\u001b[39m.\u001b[39;49mfit(X, y)\n\u001b[0;32m      9\u001b[0m intercepto \u001b[39m=\u001b[39m model\u001b[39m.\u001b[39mintercept_\n\u001b[0;32m     11\u001b[0m \u001b[39mprint\u001b[39m(intercepto)\n",
            "File \u001b[1;32mc:\\Users\\1agui\\AppData\\Local\\Programs\\Python\\Python311\\Lib\\site-packages\\sklearn\\linear_model\\_base.py:648\u001b[0m, in \u001b[0;36mLinearRegression.fit\u001b[1;34m(self, X, y, sample_weight)\u001b[0m\n\u001b[0;32m    644\u001b[0m n_jobs_ \u001b[39m=\u001b[39m \u001b[39mself\u001b[39m\u001b[39m.\u001b[39mn_jobs\n\u001b[0;32m    646\u001b[0m accept_sparse \u001b[39m=\u001b[39m \u001b[39mFalse\u001b[39;00m \u001b[39mif\u001b[39;00m \u001b[39mself\u001b[39m\u001b[39m.\u001b[39mpositive \u001b[39melse\u001b[39;00m [\u001b[39m\"\u001b[39m\u001b[39mcsr\u001b[39m\u001b[39m\"\u001b[39m, \u001b[39m\"\u001b[39m\u001b[39mcsc\u001b[39m\u001b[39m\"\u001b[39m, \u001b[39m\"\u001b[39m\u001b[39mcoo\u001b[39m\u001b[39m\"\u001b[39m]\n\u001b[1;32m--> 648\u001b[0m X, y \u001b[39m=\u001b[39m \u001b[39mself\u001b[39;49m\u001b[39m.\u001b[39;49m_validate_data(\n\u001b[0;32m    649\u001b[0m     X, y, accept_sparse\u001b[39m=\u001b[39;49maccept_sparse, y_numeric\u001b[39m=\u001b[39;49m\u001b[39mTrue\u001b[39;49;00m, multi_output\u001b[39m=\u001b[39;49m\u001b[39mTrue\u001b[39;49;00m\n\u001b[0;32m    650\u001b[0m )\n\u001b[0;32m    652\u001b[0m sample_weight \u001b[39m=\u001b[39m _check_sample_weight(\n\u001b[0;32m    653\u001b[0m     sample_weight, X, dtype\u001b[39m=\u001b[39mX\u001b[39m.\u001b[39mdtype, only_non_negative\u001b[39m=\u001b[39m\u001b[39mTrue\u001b[39;00m\n\u001b[0;32m    654\u001b[0m )\n\u001b[0;32m    656\u001b[0m X, y, X_offset, y_offset, X_scale \u001b[39m=\u001b[39m _preprocess_data(\n\u001b[0;32m    657\u001b[0m     X,\n\u001b[0;32m    658\u001b[0m     y,\n\u001b[1;32m   (...)\u001b[0m\n\u001b[0;32m    661\u001b[0m     sample_weight\u001b[39m=\u001b[39msample_weight,\n\u001b[0;32m    662\u001b[0m )\n",
            "File \u001b[1;32mc:\\Users\\1agui\\AppData\\Local\\Programs\\Python\\Python311\\Lib\\site-packages\\sklearn\\base.py:584\u001b[0m, in \u001b[0;36mBaseEstimator._validate_data\u001b[1;34m(self, X, y, reset, validate_separately, **check_params)\u001b[0m\n\u001b[0;32m    582\u001b[0m         y \u001b[39m=\u001b[39m check_array(y, input_name\u001b[39m=\u001b[39m\u001b[39m\"\u001b[39m\u001b[39my\u001b[39m\u001b[39m\"\u001b[39m, \u001b[39m*\u001b[39m\u001b[39m*\u001b[39mcheck_y_params)\n\u001b[0;32m    583\u001b[0m     \u001b[39melse\u001b[39;00m:\n\u001b[1;32m--> 584\u001b[0m         X, y \u001b[39m=\u001b[39m check_X_y(X, y, \u001b[39m*\u001b[39;49m\u001b[39m*\u001b[39;49mcheck_params)\n\u001b[0;32m    585\u001b[0m     out \u001b[39m=\u001b[39m X, y\n\u001b[0;32m    587\u001b[0m \u001b[39mif\u001b[39;00m \u001b[39mnot\u001b[39;00m no_val_X \u001b[39mand\u001b[39;00m check_params\u001b[39m.\u001b[39mget(\u001b[39m\"\u001b[39m\u001b[39mensure_2d\u001b[39m\u001b[39m\"\u001b[39m, \u001b[39mTrue\u001b[39;00m):\n",
            "File \u001b[1;32mc:\\Users\\1agui\\AppData\\Local\\Programs\\Python\\Python311\\Lib\\site-packages\\sklearn\\utils\\validation.py:1106\u001b[0m, in \u001b[0;36mcheck_X_y\u001b[1;34m(X, y, accept_sparse, accept_large_sparse, dtype, order, copy, force_all_finite, ensure_2d, allow_nd, multi_output, ensure_min_samples, ensure_min_features, y_numeric, estimator)\u001b[0m\n\u001b[0;32m   1101\u001b[0m         estimator_name \u001b[39m=\u001b[39m _check_estimator_name(estimator)\n\u001b[0;32m   1102\u001b[0m     \u001b[39mraise\u001b[39;00m \u001b[39mValueError\u001b[39;00m(\n\u001b[0;32m   1103\u001b[0m         \u001b[39mf\u001b[39m\u001b[39m\"\u001b[39m\u001b[39m{\u001b[39;00mestimator_name\u001b[39m}\u001b[39;00m\u001b[39m requires y to be passed, but the target y is None\u001b[39m\u001b[39m\"\u001b[39m\n\u001b[0;32m   1104\u001b[0m     )\n\u001b[1;32m-> 1106\u001b[0m X \u001b[39m=\u001b[39m check_array(\n\u001b[0;32m   1107\u001b[0m     X,\n\u001b[0;32m   1108\u001b[0m     accept_sparse\u001b[39m=\u001b[39;49maccept_sparse,\n\u001b[0;32m   1109\u001b[0m     accept_large_sparse\u001b[39m=\u001b[39;49maccept_large_sparse,\n\u001b[0;32m   1110\u001b[0m     dtype\u001b[39m=\u001b[39;49mdtype,\n\u001b[0;32m   1111\u001b[0m     order\u001b[39m=\u001b[39;49morder,\n\u001b[0;32m   1112\u001b[0m     copy\u001b[39m=\u001b[39;49mcopy,\n\u001b[0;32m   1113\u001b[0m     force_all_finite\u001b[39m=\u001b[39;49mforce_all_finite,\n\u001b[0;32m   1114\u001b[0m     ensure_2d\u001b[39m=\u001b[39;49mensure_2d,\n\u001b[0;32m   1115\u001b[0m     allow_nd\u001b[39m=\u001b[39;49mallow_nd,\n\u001b[0;32m   1116\u001b[0m     ensure_min_samples\u001b[39m=\u001b[39;49mensure_min_samples,\n\u001b[0;32m   1117\u001b[0m     ensure_min_features\u001b[39m=\u001b[39;49mensure_min_features,\n\u001b[0;32m   1118\u001b[0m     estimator\u001b[39m=\u001b[39;49mestimator,\n\u001b[0;32m   1119\u001b[0m     input_name\u001b[39m=\u001b[39;49m\u001b[39m\"\u001b[39;49m\u001b[39mX\u001b[39;49m\u001b[39m\"\u001b[39;49m,\n\u001b[0;32m   1120\u001b[0m )\n\u001b[0;32m   1122\u001b[0m y \u001b[39m=\u001b[39m _check_y(y, multi_output\u001b[39m=\u001b[39mmulti_output, y_numeric\u001b[39m=\u001b[39my_numeric, estimator\u001b[39m=\u001b[39mestimator)\n\u001b[0;32m   1124\u001b[0m check_consistent_length(X, y)\n",
            "File \u001b[1;32mc:\\Users\\1agui\\AppData\\Local\\Programs\\Python\\Python311\\Lib\\site-packages\\sklearn\\utils\\validation.py:879\u001b[0m, in \u001b[0;36mcheck_array\u001b[1;34m(array, accept_sparse, accept_large_sparse, dtype, order, copy, force_all_finite, ensure_2d, allow_nd, ensure_min_samples, ensure_min_features, estimator, input_name)\u001b[0m\n\u001b[0;32m    877\u001b[0m         array \u001b[39m=\u001b[39m xp\u001b[39m.\u001b[39mastype(array, dtype, copy\u001b[39m=\u001b[39m\u001b[39mFalse\u001b[39;00m)\n\u001b[0;32m    878\u001b[0m     \u001b[39melse\u001b[39;00m:\n\u001b[1;32m--> 879\u001b[0m         array \u001b[39m=\u001b[39m _asarray_with_order(array, order\u001b[39m=\u001b[39;49morder, dtype\u001b[39m=\u001b[39;49mdtype, xp\u001b[39m=\u001b[39;49mxp)\n\u001b[0;32m    880\u001b[0m \u001b[39mexcept\u001b[39;00m ComplexWarning \u001b[39mas\u001b[39;00m complex_warning:\n\u001b[0;32m    881\u001b[0m     \u001b[39mraise\u001b[39;00m \u001b[39mValueError\u001b[39;00m(\n\u001b[0;32m    882\u001b[0m         \u001b[39m\"\u001b[39m\u001b[39mComplex data not supported\u001b[39m\u001b[39m\\n\u001b[39;00m\u001b[39m{}\u001b[39;00m\u001b[39m\\n\u001b[39;00m\u001b[39m\"\u001b[39m\u001b[39m.\u001b[39mformat(array)\n\u001b[0;32m    883\u001b[0m     ) \u001b[39mfrom\u001b[39;00m \u001b[39mcomplex_warning\u001b[39;00m\n",
            "File \u001b[1;32mc:\\Users\\1agui\\AppData\\Local\\Programs\\Python\\Python311\\Lib\\site-packages\\sklearn\\utils\\_array_api.py:185\u001b[0m, in \u001b[0;36m_asarray_with_order\u001b[1;34m(array, dtype, order, copy, xp)\u001b[0m\n\u001b[0;32m    182\u001b[0m     xp, _ \u001b[39m=\u001b[39m get_namespace(array)\n\u001b[0;32m    183\u001b[0m \u001b[39mif\u001b[39;00m xp\u001b[39m.\u001b[39m\u001b[39m__name__\u001b[39m \u001b[39min\u001b[39;00m {\u001b[39m\"\u001b[39m\u001b[39mnumpy\u001b[39m\u001b[39m\"\u001b[39m, \u001b[39m\"\u001b[39m\u001b[39mnumpy.array_api\u001b[39m\u001b[39m\"\u001b[39m}:\n\u001b[0;32m    184\u001b[0m     \u001b[39m# Use NumPy API to support order\u001b[39;00m\n\u001b[1;32m--> 185\u001b[0m     array \u001b[39m=\u001b[39m numpy\u001b[39m.\u001b[39masarray(array, order\u001b[39m=\u001b[39morder, dtype\u001b[39m=\u001b[39mdtype)\n\u001b[0;32m    186\u001b[0m     \u001b[39mreturn\u001b[39;00m xp\u001b[39m.\u001b[39masarray(array, copy\u001b[39m=\u001b[39mcopy)\n\u001b[0;32m    187\u001b[0m \u001b[39melse\u001b[39;00m:\n",
            "File \u001b[1;32mc:\\Users\\1agui\\AppData\\Local\\Programs\\Python\\Python311\\Lib\\site-packages\\pandas\\core\\generic.py:2070\u001b[0m, in \u001b[0;36mNDFrame.__array__\u001b[1;34m(self, dtype)\u001b[0m\n\u001b[0;32m   2069\u001b[0m \u001b[39mdef\u001b[39;00m \u001b[39m__array__\u001b[39m(\u001b[39mself\u001b[39m, dtype: npt\u001b[39m.\u001b[39mDTypeLike \u001b[39m|\u001b[39m \u001b[39mNone\u001b[39;00m \u001b[39m=\u001b[39m \u001b[39mNone\u001b[39;00m) \u001b[39m-\u001b[39m\u001b[39m>\u001b[39m np\u001b[39m.\u001b[39mndarray:\n\u001b[1;32m-> 2070\u001b[0m     \u001b[39mreturn\u001b[39;00m np\u001b[39m.\u001b[39masarray(\u001b[39mself\u001b[39m\u001b[39m.\u001b[39m_values, dtype\u001b[39m=\u001b[39mdtype)\n",
            "\u001b[1;31mValueError\u001b[0m: could not convert string to float: 'female'"
          ]
        }
      ],
      "source": [
        "from sklearn.preprocessing import OneHotEncoder\n",
        "\n",
        "X = df.drop(['charges', 'sex_female', 'sex_male', 'smoker_no', 'smoker_yes'], axis=1)\n",
        "y = df['charges']\n",
        "\n",
        "model = LinearRegression()\n",
        "model.fit(X, y)\n",
        "\n",
        "intercepto = model.intercept_\n",
        "\n",
        "print(intercepto)"
      ]
    },
    {
      "attachments": {},
      "cell_type": "markdown",
      "id": "e26c1465",
      "metadata": {
        "id": "e26c1465"
      },
      "source": [
        "## Correlacion de columnas Pregunta 14"
      ]
    },
    {
      "cell_type": "code",
      "execution_count": null,
      "id": "W_QJa8Unr0xq",
      "metadata": {
        "id": "W_QJa8Unr0xq"
      },
      "outputs": [
        {
          "data": {
            "image/png": "[encoded data removed]",
            "text/plain": [
              "<Figure size 500x300 with 2 Axes>"
            ]
          },
          "metadata": {},
          "output_type": "display_data"
        }
      ],
      "source": [
        "df = pd.read_csv(\"./data/ML_Houses_dataset.csv\")\n",
        "df_houses = df[['GrLivArea', 'BedroomAbvGr', 'KitchenAbvGr', 'OverallCond', \n",
        "                       'Pesos', 'Alley', 'Street', 'WallMat','SalePrice']]\n",
        "                       \n",
        "corr = df_houses.corr()\n",
        "sns.heatmap(corr, \n",
        "        xticklabels=corr.columns,\n",
        "        yticklabels=corr.columns,\n",
        "        annot=True);"
      ]
    },
    {
      "attachments": {},
      "cell_type": "markdown",
      "id": "b95ea7a7",
      "metadata": {},
      "source": [
        "14. Considerando la correlación de Pearson y que la variable objetivo es SalePrice ¿Usted eliminaría alguna de estas variables?\n",
        "\n",
        "    1. Sí, la variable GrLivArea\n",
        "\n",
        "    1. Sí, la variable BedroomAbvGr\n",
        "\n",
        "    1. Sí, la variable OverallCond\n",
        "\n",
        "    1. Sí, la variable Pesos\n",
        "\n",
        "    1. No hay suficiente información\n",
        "\n",
        "- 4, pesos"
      ]
    },
    {
      "attachments": {},
      "cell_type": "markdown",
      "id": "6c42b96b",
      "metadata": {
        "id": "6c42b96b"
      },
      "source": [
        "# Clasificacion Pregunta 15"
      ]
    },
    {
      "cell_type": "code",
      "execution_count": null,
      "id": "1924b876",
      "metadata": {
        "id": "1924b876"
      },
      "outputs": [],
      "source": [
        "df_houses['SalePriceBinary'] = pd.cut(x = df_houses['SalePrice'],\n",
        "                                        bins=[df_houses['SalePrice'].min()-1,\n",
        "                                        df_houses['SalePrice'].mean(),\n",
        "                                        df_houses['SalePrice'].max()+1], \n",
        "                                        labels=['barato', 'caro'])"
      ]
    },
    {
      "cell_type": "code",
      "execution_count": null,
      "id": "4d01bbc3",
      "metadata": {
        "id": "4d01bbc3"
      },
      "outputs": [],
      "source": [
        "from sklearn.preprocessing import LabelEncoder, MinMaxScaler\n",
        "from sklearn.tree import DecisionTreeClassifier\n",
        "from sklearn.model_selection import cross_val_score\n",
        "\n",
        "y_encoder = LabelEncoder().fit(df_houses['SalePriceBinary'])\n",
        "y = y_encoder.transform(df_houses['SalePriceBinary'])\n",
        "X = df_houses.drop(columns=['Alley','Street','WallMat', 'SalePrice', 'Pesos', 'SalePriceBinary'])\n",
        "\n",
        "X_scaled = MinMaxScaler().fit_transform(X)"
      ]
    },
    {
      "attachments": {},
      "cell_type": "markdown",
      "id": "MBF4krxusobV",
      "metadata": {
        "id": "MBF4krxusobV"
      },
      "source": [
        "Después de efectuado el procedimiento anterior, se pide utilizar validación cruzada, con cv=10 y aplicar árboles de decisión"
      ]
    },
    {
      "attachments": {},
      "cell_type": "markdown",
      "id": "6c296f50",
      "metadata": {},
      "source": [
        "15.  ¿En qué rango se encuentra el accuracy del modelo? \n",
        "\n",
        "    1. [0.65 , 0.7)\n",
        "    2. [0.7 , 0.8)\n",
        "    3. [0.8 , 0.9)\n",
        "    4. [0.9 , 0.95]\n",
        "    5. Menor a 0.65 o mayor a 0.95\n",
        "\n",
        "- 3"
      ]
    },
    {
      "cell_type": "code",
      "execution_count": null,
      "id": "9ec1467f",
      "metadata": {},
      "outputs": [
        {
          "name": "stdout",
          "output_type": "stream",
          "text": [
            "2 0.841 0.847\n",
            "3 0.825 0.892\n",
            "4 0.836 0.927\n",
            "5 0.812 0.957\n",
            "6 0.823 0.983\n",
            "7 0.821 0.984\n",
            "8 0.827 0.982\n",
            "9 0.811 0.979\n",
            "10 0.818 0.983\n",
            "11 0.8 0.981\n",
            "12 0.816 0.979\n",
            "13 0.816 0.993\n",
            "14 0.786 0.992\n",
            "15 0.812 0.991\n",
            "16 0.818 0.991\n",
            "17 0.798 0.99\n",
            "18 0.806 0.99\n",
            "19 0.785 1.0\n",
            "20 0.807 1.0\n",
            "21 0.762 1.0\n",
            "min: 0.8181818181818182\n",
            "mean: 0.8585227272727274\n",
            "max: 0.9829545454545454\n"
          ]
        }
      ],
      "source": [
        "performance = {}\n",
        "\n",
        "for cv in range(2,22):\n",
        "    tree = DecisionTreeClassifier()\n",
        "    scores = cross_val_score(tree, X_scaled, y, cv=cv)\n",
        "    # print(cv, scores.min(), scores.mean(), scores.max())\n",
        "    print(cv, round(scores.min(), 3), round(scores.max(), 3))\n",
        "\n",
        "tree = DecisionTreeClassifier()\n",
        "score = cross_val_score(tree, X_scaled, y, cv=10)\n",
        "minAccuracy = min(score)\n",
        "meanAccuracy = score.mean()\n",
        "maxAccuracy = max(score)\n",
        "\n",
        "print('min:', minAccuracy)\n",
        "print('mean:', meanAccuracy)\n",
        "print('max:', maxAccuracy)"
      ]
    },
    {
      "attachments": {},
      "cell_type": "markdown",
      "id": "e0c6b4d5",
      "metadata": {
        "id": "e0c6b4d5"
      },
      "source": [
        "# Metricas Pregunta 16"
      ]
    },
    {
      "attachments": {},
      "cell_type": "markdown",
      "id": "60bd2edc",
      "metadata": {},
      "source": [
        "16. ¿Cuál sería el valor de la exhaustividad del modelo? \n",
        "\n",
        "    1. 0.625\n",
        "    2. 0.833\n",
        "    3. 0.692\n",
        "    4. 0.714\n",
        "\n",
        "- 2"
      ]
    },
    {
      "cell_type": "code",
      "execution_count": null,
      "id": "5dd50d53",
      "metadata": {
        "id": "5dd50d53"
      },
      "outputs": [
        {
          "name": "stdout",
          "output_type": "stream",
          "text": [
            "Accuracy: 0.69\n",
            "Recall: 0.8333333333333334\n"
          ]
        }
      ],
      "source": [
        "from sklearn.metrics import accuracy_score, precision_score, recall_score, f1_score\n",
        "\n",
        "y_true = [0, 0, 0, 1, 1, 0, 1, 0, 0, 1, 0, 1, 1]\n",
        "y_pred = [1, 0, 0, 1, 0, 1, 1, 0, 1, 1, 0, 1, 1]\n",
        "\n",
        "# mi codigo;\n",
        "accuracy = accuracy_score(y_true, y_pred)\n",
        "print(f\"Accuracy: {accuracy:.2f}\")\n",
        "\n",
        "\n",
        "recall = recall_score(y_true, y_pred)\n",
        "print('Recall:', recall)\n"
      ]
    },
    {
      "attachments": {},
      "cell_type": "markdown",
      "id": "5c5b5f26",
      "metadata": {
        "id": "5c5b5f26"
      },
      "source": [
        "# Ajustando Metricas Pregunta 17"
      ]
    },
    {
      "cell_type": "code",
      "execution_count": null,
      "id": "a1898ebd",
      "metadata": {
        "id": "a1898ebd"
      },
      "outputs": [
        {
          "name": "stdout",
          "output_type": "stream",
          "text": [
            "[[4 3]\n",
            " [1 5]]\n",
            "False Positives: 3\n"
          ]
        }
      ],
      "source": [
        "from sklearn.metrics import confusion_matrix,accuracy_score\n",
        "y_test = [0, 0, 0, 1, 1, 0, 1, 0, 0, 1, 0, 1, 1]\n",
        "y_pred = [1, 0, 0, 1, 0, 1, 1, 0, 1, 1, 0, 1, 1]\n",
        "\n",
        "cm = confusion_matrix(y_test, y_pred)\n",
        "print(cm)\n",
        "false_positives = cm[0, 1]\n",
        "print(f\"False Positives: {false_positives}\")"
      ]
    },
    {
      "attachments": {},
      "cell_type": "markdown",
      "id": "5e9325f6",
      "metadata": {
        "id": "5e9325f6"
      },
      "source": [
        "# K-means Pregunta 18"
      ]
    },
    {
      "attachments": {},
      "cell_type": "markdown",
      "id": "74abe819",
      "metadata": {},
      "source": [
        "18. Si en el conjunto entregado, instancia y entrena un modelo KMeans con dos clústeres, el valor de la inercia, estaría en el rango de: \n",
        "\n",
        "    1. (0, 10000]\n",
        "\n",
        "    1. (10000, 20000]\n",
        "\n",
        "    1. (20000, 30000]\n",
        "\n",
        "    1. Mayor a 30000\n",
        "\n",
        "- 2"
      ]
    },
    {
      "cell_type": "code",
      "execution_count": null,
      "id": "d804ce38",
      "metadata": {
        "id": "d804ce38"
      },
      "outputs": [],
      "source": [
        "import numpy as np\n",
        "import matplotlib.pyplot as plt\n",
        "import seaborn as sns\n",
        "from sklearn.datasets import make_blobs\n",
        "from sklearn.cluster import KMeans\n",
        "import warnings\n",
        "warnings.filterwarnings('ignore')"
      ]
    },
    {
      "cell_type": "code",
      "execution_count": null,
      "id": "8327d0be",
      "metadata": {
        "id": "8327d0be"
      },
      "outputs": [],
      "source": [
        "random_state=42\n",
        "\n",
        "X, y = make_blobs(n_samples=500, centers=4, random_state=random_state)"
      ]
    },
    {
      "cell_type": "code",
      "execution_count": null,
      "id": "d2108e81",
      "metadata": {},
      "outputs": [
        {
          "ename": "SyntaxError",
          "evalue": "unterminated string literal (detected at line 20) (288612197.py, line 20)",
          "output_type": "error",
          "traceback": [
            "\u001b[1;36m  Cell \u001b[1;32mIn[55], line 20\u001b[1;36m\u001b[0m\n\u001b[1;33m    print(\"ranges[range_index])\u001b[0m\n\u001b[1;37m          ^\u001b[0m\n\u001b[1;31mSyntaxError\u001b[0m\u001b[1;31m:\u001b[0m unterminated string literal (detected at line 20)\n"
          ]
        }
      ],
      "source": [
        "kmeans = KMeans(n_clusters=2, random_state=random_state)\n",
        "kmeans.fit(X)\n",
        "\n",
        "inertia = kmeans.inertia_\n",
        "\n",
        "ranges = [\n",
        "    (0, 10000),\n",
        "    (10000, 20000),\n",
        "    (20000, 30000),\n",
        "    (30000, float('inf'))\n",
        "]\n",
        "\n",
        "range_index = None\n",
        "for i, (lower, upper) in enumerate(ranges):\n",
        "    if lower < inertia <= upper:\n",
        "        range_index = i\n",
        "        break\n",
        "\n",
        "if range_index is not None:\n",
        "    print(\"ranges[range_index])\n",
        "else:\n",
        "    print(\"No se encuentra en ninguno de los rangos especificados.\")"
      ]
    },
    {
      "attachments": {},
      "cell_type": "markdown",
      "id": "-aPiwaUyv76P",
      "metadata": {
        "id": "-aPiwaUyv76P"
      },
      "source": [
        "# SVM + Grid Search Pregunta 19 "
      ]
    },
    {
      "attachments": {},
      "cell_type": "markdown",
      "id": "151ff596",
      "metadata": {},
      "source": [
        "19. ¿Cuáles son los mejores hiperparámetros para la SVM?\n",
        "\n",
        "    1. {'C': 1, 'coef0': 0, 'gamma': 1, 'kernel': 'rbf'}\n",
        "\n",
        "    1. {'C': 0.01, 'coef0': 0, 'gamma': 1, 'kernel': 'sigmoid'}\n",
        "\n",
        "    1. {'C': 0.1, 'coef0': 0, 'gamma': 1, 'kernel': 'rbf'}\n",
        "\n",
        "    1. {'C': 1, 'coef0': 0, 'gamma': 1, 'kernel': 'sigmoid'}\n",
        "\n",
        "- 1"
      ]
    },
    {
      "cell_type": "code",
      "execution_count": null,
      "id": "0df35d7e",
      "metadata": {},
      "outputs": [
        {
          "name": "stdout",
          "output_type": "stream",
          "text": [
            "Los mejores hiperparámetros encontrados son: {'C': 1, 'coef0': 0, 'gamma': 1, 'kernel': 'rbf'}\n",
            "La puntuación correspondiente a los mejores hiperparámetros es: 0.9350972410673903\n"
          ]
        },
        {
          "data": {
            "image/png": "[encoded data removed]",
            "text/plain": [
              "<Figure size 500x300 with 1 Axes>"
            ]
          },
          "metadata": {},
          "output_type": "display_data"
        }
      ],
      "source": [
        "import numpy as np\n",
        "import matplotlib.pyplot as plt\n",
        "\n",
        "from matplotlib import rcParams\n",
        "rcParams['figure.figsize'] = (5, 3)\n",
        "\n",
        "from sklearn.datasets import make_moons\n",
        "from sklearn.svm import SVC\n",
        "from sklearn.model_selection import GridSearchCV\n",
        "\n",
        "from scipy import stats\n",
        "\n",
        "n = 200\n",
        "X, y = make_moons(n_samples=n, noise=0.25, random_state=0)\n",
        "plt.scatter(X[:, 0], X[:, 1], c=y)\n",
        "\n",
        "# Instanciar el modelo\n",
        "model = SVC()\n",
        "\n",
        "# Definir el espacio de búsqueda de hiperparámetros\n",
        "search_space = {\n",
        "    'kernel': ['sigmoid', 'rbf'],\n",
        "    'C': [0.01, 0.1, 1, 10, 100, 1000],\n",
        "    'gamma': [0, 0.1, 1, 10, 100],\n",
        "    'coef0': [0, 0.1, 1],\n",
        "}\n",
        "\n",
        "# Instanciar la búsqueda de hiperparámetros (GridSearchCV)\n",
        "rsearch = GridSearchCV(\n",
        "    model, search_space,\n",
        "    n_jobs=-1, scoring='accuracy', cv=3, verbose=0)\n",
        "\n",
        "# Ajustar la búsqueda de hiperparámetros\n",
        "rsearch.fit(X, y)\n",
        "\n",
        "# Obtener los mejores hiperparámetros y su puntuación\n",
        "best_params = rsearch.best_params_\n",
        "best_score = rsearch.best_score_\n",
        "\n",
        "# Imprimir los mejores hiperparámetros y su puntuación\n",
        "print(\"Los mejores hiperparámetros encontrados son:\", best_params)\n",
        "print(\"La puntuación correspondiente a los mejores hiperparámetros es:\", best_score)\n"
      ]
    },
    {
      "attachments": {},
      "cell_type": "markdown",
      "id": "3423ec21",
      "metadata": {},
      "source": [
        "20.   ¿La cantidad de covariables m que se utilizan en la construcción de un árbol, dentro del RandomForest, es un hiperparámetro?, de ser así ¿cuál de las siguientes estrategias permitiría identificar apropiadamente el valor de m?\n",
        "\n",
        "    1. El número de covariables m no es un hiperparámetro, y su valor es calculado como la raíz del número de covariables.\n",
        "    2. El número de covariables m no es un hiperparámetro, y su valor siempre es igual a 5, independiente del número de covariables en el conjunto de datos.\n",
        "    3. El número de covariables m sí es un hiperparámetro, pero no puede ser obtenido mediante validación cruzada, si no que se debe proponer por el usuario.\n",
        "    4. El número de covariables m sí es un hiperparámetro y puede ser obtenido mediante validación cruzada considerando una grilla para dicho valor, seleccionando aquel que minimice la función de riesgo (error del modelo) escogida.\n",
        "\n",
        "- 4"
      ]
    }
  ],
  "metadata": {
    "colab": {
      "provenance": []
    },
    "kernelspec": {
      "display_name": "Python 3 (ipykernel)",
      "language": "python",
      "name": "python3"
    },
    "language_info": {
      "codemirror_mode": {
        "name": "ipython",
        "version": 3
      },
      "file_extension": ".py",
      "mimetype": "text/x-python",
      "name": "python",
      "nbconvert_exporter": "python",
      "pygments_lexer": "ipython3",
      "version": "3.11.2"
    },
    "toc": {
      "base_numbering": 1,
      "nav_menu": {},
      "number_sections": true,
      "sideBar": true,
      "skip_h1_title": false,
      "title_cell": "Table of Contents",
      "title_sidebar": "Contents",
      "toc_cell": false,
      "toc_position": {},
      "toc_section_display": true,
      "toc_window_display": false
    },
    "vscode": {
      "interpreter": {
        "hash": "0de44e77179c5f1387f6ae5093afa3821e110b922dd2f6de64622a94a2c00df9"
      }
    }
  },
  "nbformat": 4,
  "nbformat_minor": 5
}
