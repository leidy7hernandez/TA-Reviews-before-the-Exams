{
 "cells": [
  {
   "attachments": {},
   "cell_type": "markdown",
   "metadata": {},
   "source": [
    "1. Suponga que la relación entre dos variables (x,y) es modelada usando una función lineal con los resultados que aparece a continuación.  ¿Cuál de las siguientes interpretaciones es correcta?  1 punto\n",
    "\n",
    "    1. (x,y) siguen una tendencia lineal con alta dispersión y pendiente negativa.\n",
    "    \n",
    "    2. (x,y) siguen una tendencia lineal con baja dispersión y pendiente negativa.\n",
    "    \n",
    "    3. (x,y) siguen una tendencia lineal con alta dispersión y pendiente positiva.\n",
    "    \n",
    "    4. (x,y) siguen una tendencia lineal con baja dispersión y pendiente positiva.\n",
    "\n",
    "    - 1    "
   ]
  },
  {
   "attachments": {},
   "cell_type": "markdown",
   "metadata": {},
   "source": [
    "2. Suponiendo que tenemos un conjunto de datos con poco ruido, ¿cuándo un modelo presenta subajuste (underfitting)?\n",
    "1 punto\n",
    "\n",
    "    1. El error de entrenamiento es bajo, pero el error de prueba es alto.\n",
    "\n",
    "    2. El error de entrenamiento es alto, pero el error de prueba es bajo.\n",
    "\n",
    "    3. Tanto los errores de entrenamiento como los de prueba son bajos.\n",
    "\n",
    "    4. Tanto el error del entrenamiento como el de la prueba son altos.\n",
    "\n",
    "    - 2"
   ]
  },
  {
   "attachments": {},
   "cell_type": "markdown",
   "metadata": {},
   "source": [
    "3. ¿Cuál de los siguientes modelos de clasificación de la siguiente imagen corresponde a un ejemplo de sobreajuste? 1 punto\n",
    "\n",
    "<img src='./3.png'><img/>\n",
    "\n",
    "    1. Figura A\n",
    "\n",
    "    2. Figura B\n",
    "\n",
    "    3. Figura C\n",
    "\n",
    "    4. Figura D\n",
    "\n",
    "    \n",
    "- 4 D"
   ]
  },
  {
   "attachments": {},
   "cell_type": "markdown",
   "metadata": {},
   "source": [
    "4. ¿Cuál es la afirmación correcta respecto a datos nulos y ceros en un conjunto de datos de entrenamiento?  1 punto\n",
    "\n",
    "    1. Un valor nulo (NaN) representa un dato faltante, mientras que un valor cero puede representar una respuesta numérica.\n",
    "\n",
    "    2. Un valor nulo (NaN) se reemplaza siempre por un cero en el proceso de limpieza de datos.\n",
    "\n",
    "    3. Un valor nulo (NaN) es equivalente a un valor cero, ambos representan datos faltantes.\n",
    "\n",
    "    4. Un valor nulo (NaN) es interpretado por pandas como un valor cero.\n",
    "    \n",
    "    - 1"
   ]
  },
  {
   "attachments": {},
   "cell_type": "markdown",
   "metadata": {},
   "source": [
    "5. ¿Cuál de las siguientes afirmaciones relativa a algoritmos de aprendizaje supervisado es VERDADERA? 1 punto\n",
    "\n",
    "    1. Los algoritmos de clasificación sólo pueden generar predicciones en base a variables de entrada numéricas.\n",
    "\n",
    "    2. Los algoritmos de regresión sólo permiten predecir variables numéricas continuas.\n",
    "\n",
    "    3. Los algoritmos de clasificación sólo permiten predecir categorías binarias.\n",
    "\n",
    "    4. Los algoritmos de regresión requieren datos de entrenamiento no etiquetados.\n",
    "\n",
    "    - 2"
   ]
  },
  {
   "attachments": {},
   "cell_type": "markdown",
   "metadata": {},
   "source": [
    "6.  El índice de calor en un lugar particular (I) depende de la temperatura T (en grados Celsius), la humedad H y la velocidad del viento V (en m/s). Un modelo de regresión múltiple para el índice de calor (I) se describe mediante la ecuación que se muestra en la imagen. ¿Cuál de las siguientes interpretaciones del modelo es correcta?  1 punto\n",
    "\n",
    "<img src='./6.png'>\n",
    "\n",
    "    1. Por cada unidad en que se incrementa la velocidad del viento (V), el índice de calor disminuye en promedio 0.4 unidades.\n",
    "\n",
    "    2. Por cada unidad en que se incrementan la temperatura (T) y la humedad (H) el índice de calor aumenta en promedio 7 unidades.\n",
    "\n",
    "    3. Por cada unidad en que se incrementa la velocidad del viento (V), la humedad (H) aumenta en promedio 0.4 unidades.\n",
    "\n",
    "    4. Por cada unidad en que se incrementa la velocidad del viento (V), el índice de calor aumenta en promedio 0.4 unidades.\n",
    "\n",
    "- 1"
   ]
  },
  {
   "attachments": {},
   "cell_type": "markdown",
   "metadata": {},
   "source": [
    "7.  ¿Cuál de las siguientes estrategias es utilizada para evitar el sobreajuste en un modelo de clasificación de árbol de decisión? 1 punto\n",
    "\n",
    "    1. Forzar la creación de hojas puras.\n",
    "\n",
    "    1. Limitar la profundidad máxima del árbol.\n",
    "\n",
    "    1. Aumentar la cantidad de nodos.\n",
    "\n",
    "    1. Aumentar la complejidad del árbol.\n",
    "\n",
    "    - 2\n"
   ]
  },
  {
   "attachments": {},
   "cell_type": "markdown",
   "metadata": {},
   "source": [
    "8.  ¿Qué es el uso de técnicas de remuestreo en el balanceo de clases? 1 punto\n",
    "\n",
    "    1. Una técnica que consiste en eliminar ejemplos de la clase mayoritaria.\n",
    "\n",
    "    1. Una técnica que consiste en generar datos sintéticos para la clase minoritaria mediante interpolación entre los puntos de datos cercanos\n",
    "\n",
    "    1. Una técnica que consiste en asignar un peso diferente a los errores de clasificación de las diferentes clases.\n",
    "\n",
    "    1. Una técnica que consiste en modificar la distribución de los datos mediante técnicas como oversampling, under-sampling, y generación de datos sintéticos.\n",
    "\n",
    "    - 4\n"
   ]
  },
  {
   "attachments": {},
   "cell_type": "markdown",
   "metadata": {},
   "source": [
    "9. Como característica de un buen proceso de clustering se puede definir: 1 punto\n",
    "\n",
    "    1. Los registros del clúster deben ser lo más cohesionados posible, es decir, que el centroide represente muy bien el clúster.\n",
    "\n",
    "    1. La distancia entre cada centroide y los registros de cada uno de ellos debe ser igual a cero.\n",
    "\n",
    "    1. Los clústeres o grupos formados deben tener el mismo número de registros para garantizar un buen balanceo de datos.\n",
    "\n",
    "    1. El entrenamiento se hace con un porcentaje de los datos que puede ser entre el 70-80% y se debe reservar una cantidad de registros para evaluación.\n",
    "    \n",
    "    - 1"
   ]
  },
  {
   "attachments": {},
   "cell_type": "markdown",
   "metadata": {},
   "source": [
    "10.  ¿Qué sucede si el valor de k es demasiado grande en el algoritmo k-means? 1 punto.\n",
    "\n",
    "    1. El algoritmo converge pero los clusters son demasiado generalizados.\n",
    "\n",
    "    2. El algoritmo converge y los clusters son óptimos.\n",
    "\n",
    "    3. El algoritmo converge pero los clusters son demasiado pequeños.\n",
    "\n",
    "    4. El algoritmo no converge.\n",
    "    \n",
    "    - 3"
   ]
  },
  {
   "attachments": {},
   "cell_type": "markdown",
   "metadata": {},
   "source": [
    "Las siguientes preguntas se responden utilizando el notebook disponible en el siguiente link\n",
    "https://drive.google.com/drive/folders/13AQ_rKWXoJ8Y0Rna1m0FinTvieAnJyOJ?usp=sharing"
   ]
  }
 ],
 "metadata": {
  "language_info": {
   "name": "python"
  },
  "orig_nbformat": 4
 },
 "nbformat": 4,
 "nbformat_minor": 2
}
